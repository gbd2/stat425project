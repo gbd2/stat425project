{
 "cells": [
  {
   "cell_type": "code",
   "execution_count": 63,
   "metadata": {},
   "outputs": [],
   "source": [
    "import pandas as pd"
   ]
  },
  {
   "cell_type": "code",
   "execution_count": 64,
   "metadata": {},
   "outputs": [],
   "source": [
    "weather = pd.read_csv('../data/weather_final.csv')"
   ]
  },
  {
   "cell_type": "code",
   "execution_count": 65,
   "metadata": {},
   "outputs": [
    {
     "data": {
      "text/html": [
       "<div>\n",
       "<style scoped>\n",
       "    .dataframe tbody tr th:only-of-type {\n",
       "        vertical-align: middle;\n",
       "    }\n",
       "\n",
       "    .dataframe tbody tr th {\n",
       "        vertical-align: top;\n",
       "    }\n",
       "\n",
       "    .dataframe thead th {\n",
       "        text-align: right;\n",
       "    }\n",
       "</style>\n",
       "<table border=\"1\" class=\"dataframe\">\n",
       "  <thead>\n",
       "    <tr style=\"text-align: right;\">\n",
       "      <th></th>\n",
       "      <th>temp</th>\n",
       "      <th>dwpt</th>\n",
       "      <th>rhum</th>\n",
       "      <th>prcp</th>\n",
       "      <th>snow</th>\n",
       "      <th>wdir</th>\n",
       "      <th>wspd</th>\n",
       "      <th>wpgt</th>\n",
       "      <th>pres</th>\n",
       "      <th>tsun</th>\n",
       "      <th>coco</th>\n",
       "      <th>year</th>\n",
       "      <th>date</th>\n",
       "      <th>location</th>\n",
       "    </tr>\n",
       "  </thead>\n",
       "  <tbody>\n",
       "    <tr>\n",
       "      <th>0</th>\n",
       "      <td>17.8</td>\n",
       "      <td>10.7</td>\n",
       "      <td>63.0</td>\n",
       "      <td>0.0</td>\n",
       "      <td>NaN</td>\n",
       "      <td>20.0</td>\n",
       "      <td>14.8</td>\n",
       "      <td>NaN</td>\n",
       "      <td>1023.9</td>\n",
       "      <td>NaN</td>\n",
       "      <td>NaN</td>\n",
       "      <td>1973</td>\n",
       "      <td>1973-10-7</td>\n",
       "      <td>Charlotte</td>\n",
       "    </tr>\n",
       "    <tr>\n",
       "      <th>1</th>\n",
       "      <td>6.7</td>\n",
       "      <td>-3.3</td>\n",
       "      <td>49.0</td>\n",
       "      <td>0.0</td>\n",
       "      <td>NaN</td>\n",
       "      <td>360.0</td>\n",
       "      <td>0.0</td>\n",
       "      <td>NaN</td>\n",
       "      <td>1025.9</td>\n",
       "      <td>NaN</td>\n",
       "      <td>NaN</td>\n",
       "      <td>1973</td>\n",
       "      <td>1973-2-25</td>\n",
       "      <td>Richmond</td>\n",
       "    </tr>\n",
       "    <tr>\n",
       "      <th>2</th>\n",
       "      <td>18.9</td>\n",
       "      <td>16.7</td>\n",
       "      <td>87.0</td>\n",
       "      <td>2.3</td>\n",
       "      <td>NaN</td>\n",
       "      <td>200.0</td>\n",
       "      <td>18.7</td>\n",
       "      <td>NaN</td>\n",
       "      <td>1007.6</td>\n",
       "      <td>NaN</td>\n",
       "      <td>NaN</td>\n",
       "      <td>1973</td>\n",
       "      <td>1973-4-1</td>\n",
       "      <td>Atlanta</td>\n",
       "    </tr>\n",
       "    <tr>\n",
       "      <th>3</th>\n",
       "      <td>11.7</td>\n",
       "      <td>-2.9</td>\n",
       "      <td>36.0</td>\n",
       "      <td>0.0</td>\n",
       "      <td>NaN</td>\n",
       "      <td>280.0</td>\n",
       "      <td>18.7</td>\n",
       "      <td>NaN</td>\n",
       "      <td>1012.6</td>\n",
       "      <td>NaN</td>\n",
       "      <td>NaN</td>\n",
       "      <td>1973</td>\n",
       "      <td>1973-4-29</td>\n",
       "      <td>Martinsville</td>\n",
       "    </tr>\n",
       "    <tr>\n",
       "      <th>4</th>\n",
       "      <td>18.9</td>\n",
       "      <td>9.9</td>\n",
       "      <td>56.0</td>\n",
       "      <td>0.0</td>\n",
       "      <td>NaN</td>\n",
       "      <td>120.0</td>\n",
       "      <td>7.6</td>\n",
       "      <td>NaN</td>\n",
       "      <td>1013.6</td>\n",
       "      <td>NaN</td>\n",
       "      <td>NaN</td>\n",
       "      <td>1973</td>\n",
       "      <td>1973-5-12</td>\n",
       "      <td>Nashville Fgds</td>\n",
       "    </tr>\n",
       "  </tbody>\n",
       "</table>\n",
       "</div>"
      ],
      "text/plain": [
       "   temp  dwpt  rhum  prcp  snow   wdir  wspd  wpgt    pres  tsun  coco  year  \\\n",
       "0  17.8  10.7  63.0   0.0   NaN   20.0  14.8   NaN  1023.9   NaN   NaN  1973   \n",
       "1   6.7  -3.3  49.0   0.0   NaN  360.0   0.0   NaN  1025.9   NaN   NaN  1973   \n",
       "2  18.9  16.7  87.0   2.3   NaN  200.0  18.7   NaN  1007.6   NaN   NaN  1973   \n",
       "3  11.7  -2.9  36.0   0.0   NaN  280.0  18.7   NaN  1012.6   NaN   NaN  1973   \n",
       "4  18.9   9.9  56.0   0.0   NaN  120.0   7.6   NaN  1013.6   NaN   NaN  1973   \n",
       "\n",
       "        date         location  \n",
       "0  1973-10-7        Charlotte  \n",
       "1  1973-2-25         Richmond  \n",
       "2   1973-4-1          Atlanta  \n",
       "3  1973-4-29     Martinsville  \n",
       "4  1973-5-12   Nashville Fgds  "
      ]
     },
     "execution_count": 65,
     "metadata": {},
     "output_type": "execute_result"
    }
   ],
   "source": [
    "weather.head()"
   ]
  },
  {
   "cell_type": "code",
   "execution_count": 66,
   "metadata": {},
   "outputs": [
    {
     "data": {
      "text/plain": [
       "coco\n",
       "1.0     132\n",
       "3.0      40\n",
       "2.0      20\n",
       "8.0      11\n",
       "7.0       8\n",
       "9.0       6\n",
       "5.0       6\n",
       "4.0       3\n",
       "26.0      1\n",
       "Name: count, dtype: int64"
      ]
     },
     "execution_count": 66,
     "metadata": {},
     "output_type": "execute_result"
    }
   ],
   "source": [
    "weather['coco'].value_counts()"
   ]
  },
  {
   "cell_type": "markdown",
   "metadata": {},
   "source": [
    "- Heavy rain = .3 per hour * 24 hours =  > 7.2 inches\n",
    "- Light rain = .1 per hour * 24 hours = < 2.4 inches, but > 0\n",
    "- Rain = anywhere in [2.4, 7.2]"
   ]
  },
  {
   "cell_type": "code",
   "execution_count": 67,
   "metadata": {},
   "outputs": [],
   "source": [
    "# iterate over the rows and check the prcp value. If > 7.2, \n",
    "# then set 'Heavy Rain. If > 2.4, then set 'Moderate Rain'.\n",
    "# If > 0.0, then set 'Light Rain'. Otherwise, set 'No Rain'.\n",
    "\n",
    "\n",
    "weather['coco'] = 'No Rain'\n",
    "for i in range(len(weather)):\n",
    "    if weather.loc[i, 'prcp'] > 7.2:\n",
    "        weather.loc[i, 'coco'] = 'Heavy Rain'\n",
    "    elif weather.loc[i, 'prcp'] > 2.4:\n",
    "        weather.loc[i, 'coco'] = 'Moderate Rain'\n",
    "    elif weather.loc[i, 'prcp'] > 0.0:\n",
    "        weather.loc[i, 'coco'] = 'Light Rain'"
   ]
  },
  {
   "cell_type": "code",
   "execution_count": 68,
   "metadata": {},
   "outputs": [],
   "source": [
    "weather.to_csv('../data/weather_final.csv', index=False)"
   ]
  }
 ],
 "metadata": {
  "kernelspec": {
   "display_name": "base",
   "language": "python",
   "name": "python3"
  },
  "language_info": {
   "codemirror_mode": {
    "name": "ipython",
    "version": 3
   },
   "file_extension": ".py",
   "mimetype": "text/x-python",
   "name": "python",
   "nbconvert_exporter": "python",
   "pygments_lexer": "ipython3",
   "version": "3.9.18"
  }
 },
 "nbformat": 4,
 "nbformat_minor": 2
}
